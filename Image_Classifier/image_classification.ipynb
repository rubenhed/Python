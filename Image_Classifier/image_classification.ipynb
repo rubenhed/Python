{
 "cells": [
  {
   "cell_type": "code",
   "execution_count": 1,
   "metadata": {},
   "outputs": [],
   "source": [
    "import cv2 as cv\n",
    "import numpy as np\n",
    "import matplotlib.pyplot as plt\n",
    "from tensorflow.keras import datasets, layers, models\n",
    "\n",
    "class_names=['Plane','Car','Bird','Cat','Deer','Dog','Frog','Horse','Ship','Truck']\n"
   ]
  },
  {
   "cell_type": "code",
   "execution_count": null,
   "metadata": {},
   "outputs": [],
   "source": [
    "#Create, train and save model\n",
    "\n",
    "(training_images,training_labels),(testing_images,testing_labels) = datasets.cifar10.load_data()\n",
    "training_images,testing_images = training_images/255,testing_images/255\n",
    "\n",
    "training_images =  training_images[:20000]\n",
    "training_labels = training_labels[:20000]\n",
    "testing_images = testing_images[:4000]\n",
    "testing_labels = testing_labels[:4000]\n",
    "\n",
    "model = models.Sequential()\n",
    "model.add(layers.Conv2D(32,(3,3),activation='relu',input_shape=(32,32,3)))\n",
    "model.add(layers.MaxPooling2D(2,2))\n",
    "model.add(layers.Conv2D(64,(3,3),activation='relu'))\n",
    "model.add(layers.MaxPooling2D(2,2))\n",
    "model.add(layers.Conv2D(64,(3,3),activation='relu'))\n",
    "model.add(layers.Flatten())\n",
    "model.add(layers.Dense(64,activation='relu'))\n",
    "model.add(layers.Dense(10,activation='softmax'))\n",
    "\n",
    "model.compile(optimizer='adam',loss='sparse_categorical_crossentropy',metrics=['accuracy'])\n",
    "\n",
    "model.fit(training_images,training_labels, epochs=10,validation_data=(testing_images,testing_labels))\n",
    "\n",
    "loss,accuracy = model.evaluate(testing_images,testing_labels)\n",
    "print(f\"Loss: {loss}\")\n",
    "print(f\"Accuracy: {accuracy}\")\n",
    "\n",
    "model.save('image_classifier.model')\n"
   ]
  },
  {
   "cell_type": "code",
   "execution_count": 18,
   "metadata": {},
   "outputs": [
    {
     "name": "stdout",
     "output_type": "stream",
     "text": [
      "1/1 [==============================] - 0s 58ms/step\n",
      "Prediction is Horse\n",
      "\n",
      "0.0% to be Plane\n",
      "0.0% to be Car\n",
      "0.09% to be Bird\n",
      "0.02% to be Cat\n",
      "4.52% to be Deer\n",
      "0.04% to be Dog\n",
      "0.11% to be Frog\n",
      "95.21% to be Horse\n",
      "0.0% to be Ship\n",
      "0.0% to be Truck\n"
     ]
    },
    {
     "data": {
      "image/png": "[encoded data removed]",
      "text/plain": [
       "<Figure size 640x480 with 1 Axes>"
      ]
     },
     "metadata": {},
     "output_type": "display_data"
    }
   ],
   "source": [
    "#Load saved model and use it to predict\n",
    "\n",
    "model = models.load_model(\"image_classifier.model\")\n",
    "\n",
    "img=cv.imread('horse.jpg') #predicted image\n",
    "img=cv.cvtColor(img,cv.COLOR_BGR2RGB)\n",
    "\n",
    "plt.imshow(img,cmap=plt.cm.binary)\n",
    "\n",
    "prediction = model.predict(np.array([img])/255)\n",
    "index = np.argmax(prediction)\n",
    "print(f'Prediction is {class_names[index]}\\n')\n",
    "\n",
    "count=0\n",
    "for animal in class_names:\n",
    "    print('{0}% to be {1}'.format(round(prediction[0][count]*100,2), animal))\n",
    "    count+=1\n"
   ]
  },
  {
   "cell_type": "code",
   "execution_count": null,
   "metadata": {},
   "outputs": [],
   "source": []
  }
 ],
 "metadata": {
  "kernelspec": {
   "display_name": "base",
   "language": "python",
   "name": "python3"
  },
  "language_info": {
   "codemirror_mode": {
    "name": "ipython",
    "version": 3
   },
   "file_extension": ".py",
   "mimetype": "text/x-python",
   "name": "python",
   "nbconvert_exporter": "python",
   "pygments_lexer": "ipython3",
   "version": "3.10.9"
  },
  "orig_nbformat": 4,
  "vscode": {
   "interpreter": {
    "hash": "704aea7029d59a45433ae3b663f7cccf597e59967cc6a516676256c90bebdeef"
   }
  }
 },
 "nbformat": 4,
 "nbformat_minor": 2
}
